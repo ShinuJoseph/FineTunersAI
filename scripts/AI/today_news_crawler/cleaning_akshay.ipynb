{
 "cells": [
  {
   "cell_type": "code",
   "execution_count": 2,
   "metadata": {},
   "outputs": [],
   "source": [
    "import pandas as pd\n",
    "from bs4 import BeautifulSoup\n",
    "import re"
   ]
  },
  {
   "cell_type": "code",
   "execution_count": 4,
   "metadata": {},
   "outputs": [],
   "source": [
    "df = pd.read_csv(\"C:/MPMD/winter 2023/data science project/FineTunersAI/scripts/AI/today_news_crawler/output_news_linebreak.csv\")"
   ]
  },
  {
   "cell_type": "code",
   "execution_count": 5,
   "metadata": {},
   "outputs": [],
   "source": [
    "# Function to clean HTML content\n",
    "def clean_html(content):\n",
    "    # Create a BeautifulSoup object to parse the HTML content\n",
    "    soup = BeautifulSoup(content, 'html.parser')\n",
    "    # Extract the text content from the HTML, preserving line breaks\n",
    "    cleaned_text = '\\n'.join(soup.stripped_strings)\n",
    "    # Return the cleaned text\n",
    "    return cleaned_text\n",
    "\n",
    "\n",
    "# Apply the cleaning function to the 'content' column\n",
    "df['cleaned_content'] = df['content'].apply(clean_html)\n",
    "# Remove specific lines using regular expressions\n",
    "lines_to_remove = [\n",
    "    \"This bracelet is an easy gift — and it's less than $25 with our exclusive deal\",\n",
    "    \"\\nSections\\nShows\\nMore\\nFollow today\\nMore Brands\\n\",\n",
    "    '\\nThis article first appeared on',\n",
    "    '\\n©\\xa02023 NBC UNIVERSAL',\n",
    "    '\\nNBCNews.com'\n",
    "]\n",
    "# Create a regular expression pattern by joining escaped versions of lines to remove\n",
    "pattern = \"|\".join(re.escape(line) for line in lines_to_remove)\n",
    "\n",
    "# Apply the pattern to each element in the 'cleaned_content' column using re.sub\n",
    "# This removes any occurrences of the specified lines from the column's text\n",
    "df['cleaned_content'] = df['cleaned_content'].apply(lambda x: re.sub(pattern, \"\", x))\n"
   ]
  },
  {
   "cell_type": "code",
   "execution_count": 6,
   "metadata": {},
   "outputs": [],
   "source": [
    "# Save the DataFrame with cleaned content to a CSV file\n",
    "df.to_csv('C:/MPMD/winter 2023/data science project/FineTunersAI/scripts/AI/today_news_crawler/cleaned_output.csv', index=False)"
   ]
  }
 ],
 "metadata": {
  "kernelspec": {
   "display_name": "Python 3",
   "language": "python",
   "name": "python3"
  },
  "language_info": {
   "codemirror_mode": {
    "name": "ipython",
    "version": 3
   },
   "file_extension": ".py",
   "mimetype": "text/x-python",
   "name": "python",
   "nbconvert_exporter": "python",
   "pygments_lexer": "ipython3",
   "version": "3.9.13"
  }
 },
 "nbformat": 4,
 "nbformat_minor": 2
}
