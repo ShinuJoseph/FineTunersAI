{
 "cells": [
  {
   "cell_type": "code",
   "execution_count": 1,
   "metadata": {},
   "outputs": [
    {
     "name": "stderr",
     "output_type": "stream",
     "text": [
      "c:\\Users\\Erjon\\Documents\\2. HTW Berlin\\3. Courses\\3.4 - Emerging Technologies and AI\\emerging\\Lib\\site-packages\\tqdm\\auto.py:21: TqdmWarning: IProgress not found. Please update jupyter and ipywidgets. See https://ipywidgets.readthedocs.io/en/stable/user_install.html\n",
      "  from .autonotebook import tqdm as notebook_tqdm\n"
     ]
    }
   ],
   "source": [
    "''' import libraries\n",
    "Autotokenizer: to count the number of tokens in a text\n",
    "pipeline: to use the sentiment analysis model from huggingface\n",
    "pandas: manipulate dataframes'''\n",
    "\n",
    "from transformers import AutoTokenizer, pipeline\n",
    "import pandas as pd"
   ]
  },
  {
   "cell_type": "code",
   "execution_count": 2,
   "metadata": {},
   "outputs": [
    {
     "name": "stdout",
     "output_type": "stream",
     "text": [
      "the number of articles is:  1190\n"
     ]
    }
   ],
   "source": [
    "''' load the data'''\n",
    "\n",
    "path = r'..\\..\\data\\cleaned_output.csv'\n",
    "news = pd.read_csv(path)\n",
    "print('the number of articles is: ', len(news))"
   ]
  },
  {
   "cell_type": "code",
   "execution_count": 3,
   "metadata": {},
   "outputs": [],
   "source": [
    "''' load the same tokenizer as the one used to train the model'''\n",
    "\n",
    "tokenizer = AutoTokenizer.from_pretrained(\"lxyuan/distilbert-base-multilingual-cased-sentiments-student\")"
   ]
  },
  {
   "cell_type": "code",
   "execution_count": 15,
   "metadata": {},
   "outputs": [],
   "source": [
    "''' define a function that takes a text as input and returns the sentiment label and score\n",
    "if the text is too long, it will be truncated to 500 tokens'''\n",
    "\n",
    "def get_sentiment(text):\n",
    "    encoded_input = tokenizer(\n",
    "        text, \n",
    "        truncation=True, \n",
    "        max_length=500, \n",
    "        return_tensors=None\n",
    "    )\n",
    "    truncated_text = tokenizer.decode(encoded_input[\"input_ids\"])\n",
    "    sentiment_check = pipeline(\n",
    "        model=\"lxyuan/distilbert-base-multilingual-cased-sentiments-student\", \n",
    "        top_k=3\n",
    "    )\n",
    "    sentiment_result = sentiment_check(truncated_text)\n",
    "\n",
    "    # Extract the first label and score from the first list\n",
    "    sentiment_label = sentiment_result[0][0]['label']\n",
    "    sentiment_score = sentiment_result[0][0]['score']\n",
    "    return sentiment_label, sentiment_score"
   ]
  },
  {
   "cell_type": "code",
   "execution_count": 31,
   "metadata": {},
   "outputs": [],
   "source": [
    "''' For testing purposes create a short dataframe. Otherwise news_short = news\n",
    "Assign the sentiment and score to the news_short then filter only the positive news as a new DataFrame'''\n",
    "\n",
    "news_short = news.head(5).copy()\n",
    "news_short[['sentiment', 'score']] = news_short['cleaned_content'].apply(lambda x: pd.Series(get_sentiment(x)))\n",
    "positive_news = news_short[news_short['sentiment'] == 'positive']"
   ]
  },
  {
   "cell_type": "code",
   "execution_count": 32,
   "metadata": {},
   "outputs": [
    {
     "data": {
      "text/html": [
       "<div>\n",
       "<style scoped>\n",
       "    .dataframe tbody tr th:only-of-type {\n",
       "        vertical-align: middle;\n",
       "    }\n",
       "\n",
       "    .dataframe tbody tr th {\n",
       "        vertical-align: top;\n",
       "    }\n",
       "\n",
       "    .dataframe thead th {\n",
       "        text-align: right;\n",
       "    }\n",
       "</style>\n",
       "<table border=\"1\" class=\"dataframe\">\n",
       "  <thead>\n",
       "    <tr style=\"text-align: right;\">\n",
       "      <th></th>\n",
       "      <th>link</th>\n",
       "      <th>title</th>\n",
       "      <th>content</th>\n",
       "      <th>cleaned_content</th>\n",
       "      <th>sentiment</th>\n",
       "      <th>score</th>\n",
       "    </tr>\n",
       "  </thead>\n",
       "  <tbody>\n",
       "    <tr>\n",
       "      <th>2</th>\n",
       "      <td>https://www.today.com/popculture/travis-kelce-...</td>\n",
       "      <td>Travis Kelce and Chiefs hilariously trade Swif...</td>\n",
       "      <td>&lt;p class=\"styles_content__a8lrE\" data-testid=\"...</td>\n",
       "      <td>Brands\\nAhead of the team's matchup against t...</td>\n",
       "      <td>positive</td>\n",
       "      <td>0.430348</td>\n",
       "    </tr>\n",
       "    <tr>\n",
       "      <th>3</th>\n",
       "      <td>https://www.today.com/food/news/applebees-doll...</td>\n",
       "      <td>Applebee’s brings back fan-favorite menu item ...</td>\n",
       "      <td>&lt;p class=\"styles_content__a8lrE\" data-testid=\"...</td>\n",
       "      <td>Brands\\nOctober is the start of spooky season...</td>\n",
       "      <td>positive</td>\n",
       "      <td>0.414094</td>\n",
       "    </tr>\n",
       "  </tbody>\n",
       "</table>\n",
       "</div>"
      ],
      "text/plain": [
       "                                                link  \\\n",
       "2  https://www.today.com/popculture/travis-kelce-...   \n",
       "3  https://www.today.com/food/news/applebees-doll...   \n",
       "\n",
       "                                               title  \\\n",
       "2  Travis Kelce and Chiefs hilariously trade Swif...   \n",
       "3  Applebee’s brings back fan-favorite menu item ...   \n",
       "\n",
       "                                             content  \\\n",
       "2  <p class=\"styles_content__a8lrE\" data-testid=\"...   \n",
       "3  <p class=\"styles_content__a8lrE\" data-testid=\"...   \n",
       "\n",
       "                                     cleaned_content sentiment     score  \n",
       "2   Brands\\nAhead of the team's matchup against t...  positive  0.430348  \n",
       "3   Brands\\nOctober is the start of spooky season...  positive  0.414094  "
      ]
     },
     "execution_count": 32,
     "metadata": {},
     "output_type": "execute_result"
    }
   ],
   "source": [
    "positive_news.sort_values(by=['score'], ascending=False)"
   ]
  },
  {
   "cell_type": "code",
   "execution_count": null,
   "metadata": {},
   "outputs": [],
   "source": []
  }
 ],
 "metadata": {
  "kernelspec": {
   "display_name": "emerging",
   "language": "python",
   "name": "python3"
  },
  "language_info": {
   "codemirror_mode": {
    "name": "ipython",
    "version": 3
   },
   "file_extension": ".py",
   "mimetype": "text/x-python",
   "name": "python",
   "nbconvert_exporter": "python",
   "pygments_lexer": "ipython3",
   "version": "3.11.0"
  }
 },
 "nbformat": 4,
 "nbformat_minor": 2
}
