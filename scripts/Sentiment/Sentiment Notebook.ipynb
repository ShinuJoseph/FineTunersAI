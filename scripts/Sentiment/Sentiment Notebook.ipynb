{
 "cells": [
  {
   "cell_type": "code",
   "execution_count": 12,
   "metadata": {},
   "outputs": [],
   "source": [
    "from transformers import AutoTokenizer, pipeline"
   ]
  },
  {
   "cell_type": "code",
   "execution_count": 22,
   "metadata": {},
   "outputs": [],
   "source": [
    "tokenizer = AutoTokenizer.from_pretrained(\"lxyuan/distilbert-base-multilingual-cased-sentiments-student\")\n",
    "input_text = \"Your very long example text here...\"\n",
    "MAX_TOKENS = 400\n",
    "\n",
    "# Encode and truncate\n",
    "encoded_input = tokenizer(\n",
    "    input_text, \n",
    "    truncation=True, \n",
    "    max_length=MAX_TOKENS, \n",
    "    return_tensors=None\n",
    ")\n",
    "truncated_text = tokenizer.decode(encoded_input[\"input_ids\"])\n",
    "\n",
    "# Sentiment analysis pipeline\n",
    "sentiment_check = pipeline(\n",
    "    model=\"lxyuan/distilbert-base-multilingual-cased-sentiments-student\", \n",
    "    top_k=3\n",
    ")\n",
    "\n",
    "result = sentiment_check(truncated_text)"
   ]
  },
  {
   "cell_type": "code",
   "execution_count": 18,
   "metadata": {},
   "outputs": [
    {
     "data": {
      "text/plain": [
       "[[{'label': 'positive', 'score': 0.6833813190460205},\n",
       "  {'label': 'negative', 'score': 0.1626543253660202},\n",
       "  {'label': 'neutral', 'score': 0.1539643555879593}]]"
      ]
     },
     "execution_count": 18,
     "metadata": {},
     "output_type": "execute_result"
    }
   ],
   "source": [
    "result"
   ]
  }
 ],
 "metadata": {
  "kernelspec": {
   "display_name": "emerging",
   "language": "python",
   "name": "python3"
  },
  "language_info": {
   "codemirror_mode": {
    "name": "ipython",
    "version": 3
   },
   "file_extension": ".py",
   "mimetype": "text/x-python",
   "name": "python",
   "nbconvert_exporter": "python",
   "pygments_lexer": "ipython3",
   "version": "3.11.0"
  }
 },
 "nbformat": 4,
 "nbformat_minor": 2
}
